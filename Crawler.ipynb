{
  "nbformat": 4,
  "nbformat_minor": 0,
  "metadata": {
    "colab": {
      "name": "Crawler.ipynb",
      "provenance": [],
      "collapsed_sections": [],
      "include_colab_link": true
    },
    "kernelspec": {
      "name": "python3",
      "display_name": "Python 3"
    }
  },
  "cells": [
    {
      "cell_type": "markdown",
      "metadata": {
        "id": "view-in-github",
        "colab_type": "text"
      },
      "source": [
        "<a href=\"https://colab.research.google.com/github/gitasafitrii/crawler/blob/main/Crawler.ipynb\" target=\"_parent\"><img src=\"https://colab.research.google.com/assets/colab-badge.svg\" alt=\"Open In Colab\"/></a>"
      ]
    },
    {
      "cell_type": "markdown",
      "source": [
        "## **Import**"
      ],
      "metadata": {
        "id": "O_xcOgG22ygc"
      }
    },
    {
      "cell_type": "code",
      "metadata": {
        "id": "LBlNTXVvsBiG"
      },
      "source": [
        "import os\n",
        "import tweepy"
      ],
      "execution_count": null,
      "outputs": []
    },
    {
      "cell_type": "code",
      "metadata": {
        "id": "Ey0ObLjhyBoq"
      },
      "source": [
        "consumer_key = \"put your consumer key here\"\n",
        "consumer_secret = \"put your consumer secret here\"\n",
        "access_token = \"put your access token here\"\n",
        "access_token_secret = \"put your access token secret here\"\n",
        "\n",
        "auth = tweepy.OAuthHandler(consumer_key, consumer_secret)\n",
        "auth.set_access_token(access_token, access_token_secret)\n",
        "api = tweepy.API(auth, wait_on_rate_limit=True)"
      ],
      "execution_count": null,
      "outputs": []
    },
    {
      "cell_type": "markdown",
      "metadata": {
        "id": "O4Hbe5yvNEsA"
      },
      "source": [
        "## **1. Build a crawler that collects a user's profile information from Twitter given the user's Twitter ID**\n",
        "\n",
        "Here I try to use 2 users: @FiersaBesari and @ntsna_\n",
        "1. Fiersa Besari is a musician from Indonesia\n",
        "2. Tsana is a novelist from Indonesia\n",
        "\n",
        "Both users are actively using twitter."
      ]
    },
    {
      "cell_type": "code",
      "metadata": {
        "colab": {
          "base_uri": "https://localhost:8080/"
        },
        "id": "Lf5o8PkPqcn1",
        "outputId": "8f2050c4-03de-4d51-8953-3534d3eac09e"
      },
      "source": [
        "def userprofile(array_user) :\n",
        "\n",
        "  getUsers = api.lookup_users(screen_names=array_user)\n",
        "\n",
        "  for user in getUsers:\n",
        "    print(\"User Name : \" + user.name)\n",
        "    print(\"Screen Name : \" + user.screen_name)\n",
        "    print(\"ID User : \" + str(user.id)) \n",
        "    print(\"User Location : \" + user.location)\n",
        "    print(\"The Number of Followers : \" + str(user.followers_count))\n",
        "    print(\"The Number of Friends : \" + str(user.friends_count))\n",
        "    print(\"The Number of Tweets : \" + str(user.statuses_count))\n",
        "    print(\"The Number of Likes : \" + str(user.favourites_count)) \n",
        "    print(\"The verified is : \" + str(user.verified))\n",
        "    print(\"The account was created on : \" + str(user.created_at))\n",
        "    print(\"User URL : \" + user.url)\n",
        "    print(\"User Bio : \" + user.description)\n",
        "    print(\"------------------------------------\")\n",
        "\n",
        "userprofile(['fiersabesari', 'ntsana_'])"
      ],
      "execution_count": null,
      "outputs": [
        {
          "output_type": "stream",
          "text": [
            "User Name : Fiersa Besari\n",
            "Screen Name : FiersaBesari\n",
            "ID User : 1422951168\n",
            "User Location : Indonesia\n",
            "The Number of Followers : 7709701\n",
            "The Number of Friends : 664\n",
            "The Number of Tweets : 32466\n",
            "The Number of Likes : 738\n",
            "The verified is : True\n",
            "The account was created on : 2013-05-12 12:00:56\n",
            "User URL : https://t.co/XzdFq7wlw9\n",
            "User Bio : Menulis, bermusik, merekam, berkelana / Album “20:20” sudah bisa didengarkan di platform musik digital / 085282747109 Ubay - kerjasamafiersa@gmail.com\n",
            "------------------------------------\n",
            "User Name : Tsana\n",
            "Screen Name : ntsana_\n",
            "ID User : 124696652\n",
            "User Location : \n",
            "The Number of Followers : 2337272\n",
            "The Number of Friends : 217\n",
            "The Number of Tweets : 6559\n",
            "The Number of Likes : 2840\n",
            "The verified is : False\n",
            "The account was created on : 2010-03-20 07:35:50\n",
            "User URL : https://t.co/l9NaTRCseb\n",
            "User Bio : https://t.co/LuI7dlvEtl\n",
            "------------------------------------\n"
          ],
          "name": "stdout"
        }
      ]
    },
    {
      "cell_type": "markdown",
      "metadata": {
        "id": "t0CUkxs5xMIL"
      },
      "source": [
        "## **2. Build a crawler that collects a user's social network information given the user's ID**"
      ]
    },
    {
      "cell_type": "markdown",
      "metadata": {
        "id": "yyDLkcCTz7TO"
      },
      "source": [
        "By using the followers() method, it will display the latest 20 followers from the account, and to display more than 20 you can use the cursor() method. Likewise with friends() method."
      ]
    },
    {
      "cell_type": "code",
      "metadata": {
        "colab": {
          "base_uri": "https://localhost:8080/"
        },
        "id": "3Bcxm_ifxKo5",
        "outputId": "db5fac12-1f5f-4453-c930-ea45994478ee"
      },
      "source": [
        "#Followers List\n",
        "ID_user = \"1422951168\" \n",
        "\n",
        "print(\"The Followers List of @FiersaBesari Account : \\n\" )\n",
        "for follower in tweepy.Cursor(api.followers, ID_user).items(30): \n",
        "    print(follower.screen_name + (\" : \") + str(follower.id)) "
      ],
      "execution_count": null,
      "outputs": [
        {
          "output_type": "stream",
          "text": [
            "The Followers List of @FiersaBesari Account : \n",
            "\n",
            "Patmalasari4 : 1369152439039840258\n",
            "Dindaayndul1 : 1369965393243119619\n",
            "Dianapr10391046 : 1279755879902896132\n",
            "Chitato00990689 : 1369008879061790720\n",
            "fsyag_ : 1369962320990851076\n",
            "deb78673522 : 1369965056289468423\n",
            "Okkykyandanigm1 : 1369963496817913858\n",
            "Niko02M : 1369965626421243906\n",
            "cz_wandy : 1369965354462576641\n",
            "rlysxlisall : 1271831917231345666\n",
            "DikaCahyadi4 : 1369965519328083970\n",
            "beebil06 : 1369964649446219777\n",
            "beruanggemoy : 1365220665796694016\n",
            "SafiraA61822522 : 1369965425539174401\n",
            "rs14658933 : 1369965418215919618\n",
            "HanumIsaura : 1316231408805789697\n",
            "kirana_andrian : 1369964594106486785\n",
            "Danang46849036 : 1369964983954538497\n",
            "SinthaWulan2 : 1369254148676362240\n",
            "czeasonie : 1309154522133082112\n",
            "C6H12O6Jly : 1341676057787699200\n",
            "Sitii_Nrjnh : 1360662896305340421\n",
            "lindahpurnamas2 : 1369964873560461319\n",
            "laurenfransisc1 : 1369964287079280640\n",
            "farramdnaa1 : 1369953209733632000\n",
            "UzmaYuli : 1369642899399315463\n",
            "RendikaAngga3 : 976404087548690433\n",
            "Wita71883227 : 1369963160426348549\n",
            "RehanSe41577094 : 1369965223914795010\n",
            "Who48477339 : 1369964875858898946\n"
          ],
          "name": "stdout"
        }
      ]
    },
    {
      "cell_type": "code",
      "metadata": {
        "id": "Yvi6qrV82a1H",
        "colab": {
          "base_uri": "https://localhost:8080/"
        },
        "outputId": "faf343bb-f02b-4ad1-d258-9fe33a909972"
      },
      "source": [
        "#Friends List\n",
        "ID_user = \"1422951168\"\n",
        "\n",
        "print(\"The Friends List of @FiersaBesari Account : \\n\" )\n",
        "for friend in tweepy.Cursor(api.friends, ID_user).items(30): \n",
        "    print(friend.screen_name + (\" : \") + str(friend.id)) "
      ],
      "execution_count": null,
      "outputs": [
        {
          "output_type": "stream",
          "text": [
            "The Friends List of @FiersaBesari Account : \n",
            "\n",
            "ProfesorZubairi : 1319543043775582208\n",
            "weekdies : 1070306008570810368\n",
            "sadness_loop : 326059312\n",
            "danu_sofwan : 77454392\n",
            "LucuLucuVideo : 935157585287684100\n",
            "fahiraidris : 68304724\n",
            "JKTfashion : 57314649\n",
            "LuhAyuManikMas1 : 1120995202351751168\n",
            "maswaditya : 123552998\n",
            "nitasofiani : 47652385\n",
            "dokter_onkologi : 3002812506\n",
            "aksikitaindo : 1192362990063931394\n",
            "BangJay_sf : 325487089\n",
            "Saktiaoktavni : 886605128\n",
            "pangxuekai : 904858253565190144\n",
            "susilo : 11612882\n",
            "ana_khoz : 306733408\n",
            "priska_barusegu : 1282548943419654146\n",
            "FestivalDieng : 1110653346\n",
            "maulasam : 440877622\n",
            "aishakinaaa : 1045351306439737344\n",
            "hujanmimpi : 2902307678\n",
            "prima_sulistya : 178433540\n",
            "Karizunique : 82519754\n",
            "AREAJULID : 928308639315648512\n",
            "Raesaka : 48958975\n",
            "bemandry : 138607015\n",
            "pepepdw_ : 568263398\n",
            "AdjieSanPutro : 38394524\n",
            "tirta_hudhi : 116632682\n"
          ],
          "name": "stdout"
        }
      ]
    },
    {
      "cell_type": "markdown",
      "metadata": {
        "id": "G-9s8pio6JcI"
      },
      "source": [
        "## **3. Build a crawler that collects the tweets using a set of specified keywords and a geolocation based criteria**"
      ]
    },
    {
      "cell_type": "markdown",
      "metadata": {
        "id": "YrB5KaAT7YaX"
      },
      "source": [
        "Retrieve tweet from Tangerang\n",
        "\n",
        "Latitude : -6.178306\n",
        "\n",
        "Longitude : 106.631889\n",
        "\n",
        "Radius : 100km\n"
      ]
    },
    {
      "cell_type": "code",
      "metadata": {
        "colab": {
          "base_uri": "https://localhost:8080/"
        },
        "id": "eGJFundX6O_j",
        "outputId": "1c9fb73f-006c-4e4e-dc1d-c9c8c7d93d9c"
      },
      "source": [
        "#The keyword I use is 'fiersa besari'\n",
        "\n",
        "tweets = tweepy.Cursor(api.search, q=\"fiersa besari\", geocode=\"-6.178306,106.631889,100km\", lang=\"id\", result_type=\"recent\").items(10)\n",
        "for tweet in tweets :\n",
        "  print(tweet.user.screen_name+\" : \"+tweet.text, \"Lokasi : \", tweet.place)\n",
        "  print(\" \")"
      ],
      "execution_count": null,
      "outputs": [
        {
          "output_type": "stream",
          "text": [
            "Sabilahdinda1 : @bayu_joo Fiersa besari-hingga nafas ini habis Lokasi :  None\n",
            " \n",
            "fatur_cubis : Kalo moveon gampang, Fiersa Besari gk laku https://t.co/ElBDxSRAw7 Lokasi :  None\n",
            " \n",
            "Laraspusparanti : Tapi iya, seneng bisa samaan di bulan maret wkwkw mulai dari Cho sung woo, lee joon hyuk, kim joo hun, skrg ha jung… https://t.co/WCxIctS483 Lokasi :  None\n",
            " \n",
            "julibulanke7 : Tidak pernah dipamerkan bukan berarti tidak ada -Fiersa Besari Lokasi :  None\n",
            " \n",
            "sulopapis : karma selalu datang di waktu yang tepat, karena kalau yang datang di waktu yang salah itu fiersa besari https://t.co/7yNGgapB4d Lokasi :  None\n",
            " \n",
            "Bandanagokong : kan bukan fiersa besari ko bung bung sih https://t.co/mFBV5Wad20 Lokasi :  None\n",
            " \n",
            "riryjong : Rambutnya ala Fiersa Besari gak si? Indie bngt kwkwk @FiersaBesari https://t.co/LVY2lugjUB Lokasi :  None\n",
            " \n",
            "Camomillefleur : @dindilidindin @natanattda Kek fiersa besari gayanya😭😭😭 Lokasi :  None\n",
            " \n",
            "thisisyudhis : RT @sanurmyth: @thisisyudhis Nonton fiersa besari sama tulus di ITC Depok sampe jam 12 malem, mau balik jkt ga ada kereta, nungguin kereta… Lokasi :  None\n",
            " \n",
            "Ketemusyifaa : @Abdu_Shomad Fiersa besari nihh Lokasi :  None\n",
            " \n"
          ],
          "name": "stdout"
        }
      ]
    }
  ]
}